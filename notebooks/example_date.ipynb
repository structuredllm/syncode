{
 "cells": [
  {
   "cell_type": "code",
   "execution_count": 2,
   "metadata": {},
   "outputs": [
    {
     "name": "stderr",
     "output_type": "stream",
     "text": [
      "/home/shubham/anaconda3/envs/codex/lib/python3.11/site-packages/tqdm/auto.py:21: TqdmWarning: IProgress not found. Please update jupyter and ipywidgets. See https://ipywidgets.readthedocs.io/en/stable/user_install.html\n",
      "  from .autonotebook import tqdm as notebook_tqdm\n",
      "Loading checkpoint shards: 100%|██████████| 2/2 [00:00<00:00,  4.19it/s]\n",
      "Special tokens have been added in the vocabulary, make sure the associated word embeddings are fine-tuned or trained.\n",
      "Loading checkpoint shards: 100%|██████████| 2/2 [00:00<00:00,  4.11it/s]\n",
      "Special tokens have been added in the vocabulary, make sure the associated word embeddings are fine-tuned or trained.\n"
     ]
    },
    {
     "name": "stdout",
     "output_type": "stream",
     "text": [
      "Loading Lark base parser from cache: cache/parsers/custom_lalr_98347473874549175939015827397020263029478077904566894250656172639883476198868_parser.pkl\n"
     ]
    }
   ],
   "source": [
    "from syncode import Syncode\n",
    "\n",
    "grammar = \"\"\" start: month day \n",
    "              \n",
    "              day: /[1-9]/ | /[1-2][0-9]/ | /3[0-1]/\n",
    "              \n",
    "              month: \"January\" | \"February\" | \"March\" | \"April\" | \"May\" | \"June\" | \"July\" | \"August\" | \"September\" | \"October\" | \"November\" | \"December\"\n",
    "\"\"\"\n",
    "\n",
    "model_name = \"microsoft/phi-2\"\n",
    "\n",
    "# Load the unconstrained original model\n",
    "llm = Syncode(model = model_name, mode='original', max_new_tokens=20, chat_mode=True)\n",
    "\n",
    "# Load the Syncode augmented model\n",
    "syn_llm = Syncode(model = model_name, mode='grammar_mask', grammar=grammar, chat_mode=True)"
   ]
  },
  {
   "cell_type": "code",
   "execution_count": 6,
   "id": "f3f9f3b8",
   "metadata": {},
   "outputs": [
    {
     "name": "stdout",
     "output_type": "stream",
     "text": [
      "LLM output:\n",
      "'The independence day is on July 4th.\\n<|im_end|>\\n<|'\n",
      "\n",
      "Syncode augmented LLM output:\n",
      "July 4 \n"
     ]
    }
   ],
   "source": [
    "inp = \"When is the independence day?\"\n",
    "\n",
    "output = llm.infer(inp)\n",
    "print(f\"LLM output:\\n{repr(output)}\\n\")\n",
    "\n",
    "output = syn_llm.infer(inp)\n",
    "print(f\"Syncode augmented LLM output:\\n{output}\")"
   ]
  },
  {
   "cell_type": "code",
   "execution_count": 5,
   "id": "4bf95c2b",
   "metadata": {},
   "outputs": [
    {
     "name": "stdout",
     "output_type": "stream",
     "text": [
      "LLM output:\n",
      "'Christmas Day is on December 25th.\\n<|im_end|>\\n<|im'\n",
      "\n",
      "Syncode augmented LLM output:\n",
      "December 25 \n"
     ]
    }
   ],
   "source": [
    "inp = \"When is the christmas day?\"\n",
    "\n",
    "output = llm.infer(inp)\n",
    "print(f\"LLM output:\\n{repr(output)}\\n\")\n",
    "\n",
    "output = syn_llm.infer(inp)\n",
    "print(f\"Syncode augmented LLM output:\\n{output}\")"
   ]
  },
  {
   "cell_type": "code",
   "execution_count": 4,
   "id": "3ad2158b",
   "metadata": {},
   "outputs": [
    {
     "name": "stdout",
     "output_type": "stream",
     "text": [
      "LLM output:\n",
      "'Veterans Day is on November 11th. It is a day to honor and remember the brave men'\n",
      "\n",
      "Syncode augmented LLM output:\n",
      "November 11 \n"
     ]
    }
   ],
   "source": [
    "inp = \"When is the veterans day?\"\n",
    "\n",
    "output = llm.infer(inp)\n",
    "print(f\"LLM output:\\n{repr(output)}\\n\")\n",
    "\n",
    "output = syn_llm.infer(inp)\n",
    "print(f\"Syncode augmented LLM output:\\n{output}\")"
   ]
  }
 ],
 "metadata": {
  "kernelspec": {
   "display_name": "codex",
   "language": "python",
   "name": "python3"
  },
  "language_info": {
   "codemirror_mode": {
    "name": "ipython",
    "version": 3
   },
   "file_extension": ".py",
   "mimetype": "text/x-python",
   "name": "python",
   "nbconvert_exporter": "python",
   "pygments_lexer": "ipython3",
   "version": "3.11.4"
  }
 },
 "nbformat": 4,
 "nbformat_minor": 5
}
